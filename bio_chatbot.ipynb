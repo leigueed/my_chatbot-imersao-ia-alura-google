{
  "nbformat": 4,
  "nbformat_minor": 0,
  "metadata": {
    "colab": {
      "provenance": [],
      "authorship_tag": "ABX9TyPQz37bXTCI7LbXe4I9vzKA",
      "include_colab_link": true
    },
    "kernelspec": {
      "name": "python3",
      "display_name": "Python 3"
    },
    "language_info": {
      "name": "python"
    }
  },
  "cells": [
    {
      "cell_type": "markdown",
      "metadata": {
        "id": "view-in-github",
        "colab_type": "text"
      },
      "source": [
        "<a href=\"https://colab.research.google.com/github/leigueed/my_chatbot-imersao-ia-alura-google/blob/main/bio_chatbot.ipynb\" target=\"_parent\"><img src=\"https://colab.research.google.com/assets/colab-badge.svg\" alt=\"Open In Colab\"/></a>"
      ]
    },
    {
      "cell_type": "markdown",
      "source": [
        "instalação SDK google"
      ],
      "metadata": {
        "id": "DVjIqt7Wkry-"
      }
    },
    {
      "cell_type": "code",
      "execution_count": 1,
      "metadata": {
        "id": "TqgvgiRLfsJQ"
      },
      "outputs": [],
      "source": [
        "!pip install -q -U google-generativeai"
      ]
    },
    {
      "cell_type": "code",
      "source": [
        "import google.generativeai as genai\n",
        "from google.colab import userdata\n",
        "api_key = userdata.get('SECRET_KEY')\n",
        "genai.configure(api_key=api_key)"
      ],
      "metadata": {
        "id": "kN8zqSEWgVxc"
      },
      "execution_count": 2,
      "outputs": []
    },
    {
      "cell_type": "markdown",
      "source": [
        "listar modelos disponíveis"
      ],
      "metadata": {
        "id": "zqPN67nzku7F"
      }
    },
    {
      "cell_type": "code",
      "source": [
        "for m in genai.list_models():\n",
        "  if 'generateContent' in m.supported_generation_methods:\n",
        "    print(m.name)"
      ],
      "metadata": {
        "colab": {
          "base_uri": "https://localhost:8080/",
          "height": 139
        },
        "id": "Q8Klww1TgZ00",
        "outputId": "f97adbb2-c68b-43c7-9f46-d670d1309d66"
      },
      "execution_count": 3,
      "outputs": [
        {
          "output_type": "stream",
          "name": "stdout",
          "text": [
            "models/gemini-1.0-pro\n",
            "models/gemini-1.0-pro-001\n",
            "models/gemini-1.0-pro-latest\n",
            "models/gemini-1.0-pro-vision-latest\n",
            "models/gemini-1.5-pro-latest\n",
            "models/gemini-pro\n",
            "models/gemini-pro-vision\n"
          ]
        }
      ]
    },
    {
      "cell_type": "code",
      "source": [
        "generation_config = {\n",
        "    'candidate_count': 1,\n",
        "    'temperature': 0.5,\n",
        "    'top_p': 0.95,\n",
        "    'top_k': 35,\n",
        "    'max_output_tokens': 1000,\n",
        "    }"
      ],
      "metadata": {
        "id": "uH5FbM1LgdPc"
      },
      "execution_count": 4,
      "outputs": []
    },
    {
      "cell_type": "code",
      "source": [
        "safety_settings = {\n",
        "    'HARASSMENT': 'BLOCK_NONE',\n",
        "    'HATE': 'BLOCK_NONE',\n",
        "    'SEXUAL': 'BLOCK_NONE',\n",
        "    'DANGEROUS': 'BLOCK_NONE',\n",
        "}"
      ],
      "metadata": {
        "id": "b0q6ETpUggWL"
      },
      "execution_count": 5,
      "outputs": []
    },
    {
      "cell_type": "code",
      "source": [
        "model = genai.GenerativeModel(model_name='gemini-1.0-pro',\n",
        "                              generation_config=generation_config,\n",
        "                              safety_settings=safety_settings)"
      ],
      "metadata": {
        "id": "O6tOIFU-gi-s"
      },
      "execution_count": 6,
      "outputs": []
    },
    {
      "cell_type": "code",
      "source": [
        "chat = model.start_chat(history=[])"
      ],
      "metadata": {
        "id": "V_j-I1RQj38E"
      },
      "execution_count": null,
      "outputs": []
    },
    {
      "cell_type": "code",
      "source": [
        "prompt = input('prompt:')\n",
        "\n",
        "while prompt != 'fim':\n",
        "  response = chat.send_message(prompt)\n",
        "  print('resposta: ', response.text, '\\n')\n",
        "  prompt = input('prompt:')"
      ],
      "metadata": {
        "colab": {
          "base_uri": "https://localhost:8080/",
          "height": 989
        },
        "id": "wSqx7fBdj8vU",
        "outputId": "0346c80c-9c5f-4ca6-f931-126217e9e5ec"
      },
      "execution_count": 16,
      "outputs": [
        {
          "name": "stdout",
          "output_type": "stream",
          "text": [
            "prompt: Quero saber sobre a BioInformática.\n",
            "resposta:  **Bioinformática** é um campo interdisciplinar que combina biologia, ciência da computação, matemática e estatística para analisar e interpretar dados biológicos.\n",
            "\n",
            "**Principais aspectos da Bioinformática:**\n",
            "\n",
            "* **Análise de Sequências:** Sequenciamento de DNA, RNA e proteínas e identificação de padrões e características.\n",
            "* **Alinhamento de Sequências:** Comparação de sequências para identificar similaridades, homologia e regiões conservadas.\n",
            "* **Montagem de Genomas:** Combinação de sequências de DNA fragmentadas para criar representações completas de genomas.\n",
            "* **Análise de Expressão Gênica:** Estudo dos níveis de expressão de genes em diferentes condições e tecidos.\n",
            "* **Predição de Estrutura:** Previsão da estrutura tridimensional de proteínas e outras biomoléculas.\n",
            "* **Modelagem Molecular:** Simulação de interações moleculares e dinâmica para entender processos biológicos.\n",
            "* **Desenvolvimento de Bancos de Dados:** Criação e manutenção de bancos de dados biológicos para armazenamento e acesso a informações.\n",
            "* **Desenvolvimento de Software:** Criação de ferramentas e algoritmos computacionais para análise de dados biológicos.\n",
            "\n",
            "**Aplicações da Bioinformática:**\n",
            "\n",
            "* Pesquisa genômica e medicina personalizada\n",
            "* Desenvolvimento de medicamentos e vacinas\n",
            "* Diagnóstico e tratamento de doenças\n",
            "* Biotecnologia e engenharia genética\n",
            "* Conservação e evolução da biodiversidade\n",
            "* Agricultura e segurança alimentar\n",
            "\n",
            "**Benefícios da Bioinformática:**\n",
            "\n",
            "* Acelera a descoberta científica e o desenvolvimento de novas terapias.\n",
            "* Permite análises mais profundas e abrangentes de dados biológicos.\n",
            "* Ajuda a identificar alvos para novos medicamentos e tratamentos.\n",
            "* Contribui para o desenvolvimento de diagnósticos mais precisos e personalizados.\n",
            "* Auxilia na compreensão de processos biológicos complexos.\n",
            "\n",
            "**Exemplos de aplicações da Bioinformática:**\n",
            "\n",
            "* Sequenciamento e análise de genomas para identificar mutações associadas a doenças.\n",
            "* Desenvolvimento de ferramentas para prever a estrutura e função de proteínas.\n",
            "* Modelagem de interações entre medicamentos e alvos biológicos.\n",
            "* Análise de dados de expressão gênica para identificar biomarcadores de doenças.\n",
            "* Criação de bancos de dados para armazenar e compartilhar informações biológicas.\n",
            "\n",
            "**Oportunidades de carreira em Bioinformática:**\n",
            "\n",
            "* Cientista de Bioinformática\n",
            "* Analista de Dados Biológicos\n",
            "* Desenvolvedor de Software de Bioinformática\n",
            "* Gerente de Banco de Dados Biológicos\n",
            "* Pesquisador de Bioinformática\n",
            "\n",
            "**Como se tornar um Bioinformata:**\n",
            "\n",
            "* Obtenha um diploma em biologia, ciência da computação ou um campo relacionado.\n",
            "* Desenvolva habilidades em programação, algoritmos e estruturas de dados.\n",
            "* Aprenda sobre biologia molecular, genética e bioquímica.\n",
            "* Participe de cursos ou workshops em bioinformática.\n",
            "* Ganhe experiência prática em análise de dados biológicos. \n",
            "\n",
            "prompt:fim\n"
          ]
        }
      ]
    },
    {
      "cell_type": "code",
      "source": [
        "import textwrap\n",
        "from IPython.display import display\n",
        "from IPython.display import Markdown\n",
        "\n",
        "def to_markdown(text):\n",
        "  \"\"\"Aplica formatação Markdown com recuo e substitui marcador.\"\"\"\n",
        "  text = text.replace('•', '  *')  # Espaçamento duplo para melhor visualização\n",
        "  return Markdown(textwrap.indent(text, '> ', predicate=lambda _: True))\n",
        "\n",
        "# Obter o último prompt\n",
        "ultimo_prompt = chat.history[-1]\n",
        "\n",
        "# Formatar e exibir o último prompt\n",
        "display(to_markdown(f\"{ultimo_prompt.role}: {ultimo_prompt.parts[0].text}\"))\n"
      ],
      "metadata": {
        "colab": {
          "base_uri": "https://localhost:8080/",
          "height": 846
        },
        "id": "_EJuQbWRkKmM",
        "outputId": "ab6dcbe2-abf1-4585-e4d5-62f9411c6d80"
      },
      "execution_count": 18,
      "outputs": [
        {
          "output_type": "display_data",
          "data": {
            "text/plain": [
              "<IPython.core.display.Markdown object>"
            ],
            "text/markdown": "> model: **Bioinformática** é um campo interdisciplinar que combina biologia, ciência da computação, matemática e estatística para analisar e interpretar dados biológicos.\n> \n> **Principais aspectos da Bioinformática:**\n> \n> * **Análise de Sequências:** Sequenciamento de DNA, RNA e proteínas e identificação de padrões e características.\n> * **Alinhamento de Sequências:** Comparação de sequências para identificar similaridades, homologia e regiões conservadas.\n> * **Montagem de Genomas:** Combinação de sequências de DNA fragmentadas para criar representações completas de genomas.\n> * **Análise de Expressão Gênica:** Estudo dos níveis de expressão de genes em diferentes condições e tecidos.\n> * **Predição de Estrutura:** Previsão da estrutura tridimensional de proteínas e outras biomoléculas.\n> * **Modelagem Molecular:** Simulação de interações moleculares e dinâmica para entender processos biológicos.\n> * **Desenvolvimento de Bancos de Dados:** Criação e manutenção de bancos de dados biológicos para armazenamento e acesso a informações.\n> * **Desenvolvimento de Software:** Criação de ferramentas e algoritmos computacionais para análise de dados biológicos.\n> \n> **Aplicações da Bioinformática:**\n> \n> * Pesquisa genômica e medicina personalizada\n> * Desenvolvimento de medicamentos e vacinas\n> * Diagnóstico e tratamento de doenças\n> * Biotecnologia e engenharia genética\n> * Conservação e evolução da biodiversidade\n> * Agricultura e segurança alimentar\n> \n> **Benefícios da Bioinformática:**\n> \n> * Acelera a descoberta científica e o desenvolvimento de novas terapias.\n> * Permite análises mais profundas e abrangentes de dados biológicos.\n> * Ajuda a identificar alvos para novos medicamentos e tratamentos.\n> * Contribui para o desenvolvimento de diagnósticos mais precisos e personalizados.\n> * Auxilia na compreensão de processos biológicos complexos.\n> \n> **Exemplos de aplicações da Bioinformática:**\n> \n> * Sequenciamento e análise de genomas para identificar mutações associadas a doenças.\n> * Desenvolvimento de ferramentas para prever a estrutura e função de proteínas.\n> * Modelagem de interações entre medicamentos e alvos biológicos.\n> * Análise de dados de expressão gênica para identificar biomarcadores de doenças.\n> * Criação de bancos de dados para armazenar e compartilhar informações biológicas.\n> \n> **Oportunidades de carreira em Bioinformática:**\n> \n> * Cientista de Bioinformática\n> * Analista de Dados Biológicos\n> * Desenvolvedor de Software de Bioinformática\n> * Gerente de Banco de Dados Biológicos\n> * Pesquisador de Bioinformática\n> \n> **Como se tornar um Bioinformata:**\n> \n> * Obtenha um diploma em biologia, ciência da computação ou um campo relacionado.\n> * Desenvolva habilidades em programação, algoritmos e estruturas de dados.\n> * Aprenda sobre biologia molecular, genética e bioquímica.\n> * Participe de cursos ou workshops em bioinformática.\n> * Ganhe experiência prática em análise de dados biológicos."
          },
          "metadata": {}
        }
      ]
    }
  ]
}